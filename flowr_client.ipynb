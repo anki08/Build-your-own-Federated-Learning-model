{
  "nbformat": 4,
  "nbformat_minor": 0,
  "metadata": {
    "colab": {
      "name": "flowr_client.ipynb",
      "provenance": [],
      "collapsed_sections": []
    },
    "kernelspec": {
      "name": "python3",
      "display_name": "Python 3"
    },
    "language_info": {
      "name": "python"
    },
    "widgets": {
      "application/vnd.jupyter.widget-state+json": {
        "ab09d8331075473d885d8f88a1bdc665": {
          "model_module": "@jupyter-widgets/controls",
          "model_name": "HBoxModel",
          "state": {
            "_view_name": "HBoxView",
            "_dom_classes": [],
            "_model_name": "HBoxModel",
            "_view_module": "@jupyter-widgets/controls",
            "_model_module_version": "1.5.0",
            "_view_count": null,
            "_view_module_version": "1.5.0",
            "box_style": "",
            "layout": "IPY_MODEL_fbc53b22bda640cbb6aafc2ec695dad3",
            "_model_module": "@jupyter-widgets/controls",
            "children": [
              "IPY_MODEL_a7b6628b70004759b9be073907ece375",
              "IPY_MODEL_27640ef03d4b4e62af4d973f34e07f2c"
            ]
          }
        },
        "fbc53b22bda640cbb6aafc2ec695dad3": {
          "model_module": "@jupyter-widgets/base",
          "model_name": "LayoutModel",
          "state": {
            "_view_name": "LayoutView",
            "grid_template_rows": null,
            "right": null,
            "justify_content": null,
            "_view_module": "@jupyter-widgets/base",
            "overflow": null,
            "_model_module_version": "1.2.0",
            "_view_count": null,
            "flex_flow": null,
            "width": null,
            "min_width": null,
            "border": null,
            "align_items": null,
            "bottom": null,
            "_model_module": "@jupyter-widgets/base",
            "top": null,
            "grid_column": null,
            "overflow_y": null,
            "overflow_x": null,
            "grid_auto_flow": null,
            "grid_area": null,
            "grid_template_columns": null,
            "flex": null,
            "_model_name": "LayoutModel",
            "justify_items": null,
            "grid_row": null,
            "max_height": null,
            "align_content": null,
            "visibility": null,
            "align_self": null,
            "height": null,
            "min_height": null,
            "padding": null,
            "grid_auto_rows": null,
            "grid_gap": null,
            "max_width": null,
            "order": null,
            "_view_module_version": "1.2.0",
            "grid_template_areas": null,
            "object_position": null,
            "object_fit": null,
            "grid_auto_columns": null,
            "margin": null,
            "display": null,
            "left": null
          }
        },
        "a7b6628b70004759b9be073907ece375": {
          "model_module": "@jupyter-widgets/controls",
          "model_name": "FloatProgressModel",
          "state": {
            "_view_name": "ProgressView",
            "style": "IPY_MODEL_cb08a760af394dd8b22ee63c62647a31",
            "_dom_classes": [],
            "description": "",
            "_model_name": "FloatProgressModel",
            "bar_style": "success",
            "max": 170498071,
            "_view_module": "@jupyter-widgets/controls",
            "_model_module_version": "1.5.0",
            "value": 170498071,
            "_view_count": null,
            "_view_module_version": "1.5.0",
            "orientation": "horizontal",
            "min": 0,
            "description_tooltip": null,
            "_model_module": "@jupyter-widgets/controls",
            "layout": "IPY_MODEL_3544bbc8d70b475a8cbf8cb4ff9dd375"
          }
        },
        "27640ef03d4b4e62af4d973f34e07f2c": {
          "model_module": "@jupyter-widgets/controls",
          "model_name": "HTMLModel",
          "state": {
            "_view_name": "HTMLView",
            "style": "IPY_MODEL_8d4c3f0b91c544fdb4af828ba6282aaf",
            "_dom_classes": [],
            "description": "",
            "_model_name": "HTMLModel",
            "placeholder": "​",
            "_view_module": "@jupyter-widgets/controls",
            "_model_module_version": "1.5.0",
            "value": " 170499072/? [00:15&lt;00:00, 10956662.87it/s]",
            "_view_count": null,
            "_view_module_version": "1.5.0",
            "description_tooltip": null,
            "_model_module": "@jupyter-widgets/controls",
            "layout": "IPY_MODEL_7e9d8207371949668dc84369e28f817e"
          }
        },
        "cb08a760af394dd8b22ee63c62647a31": {
          "model_module": "@jupyter-widgets/controls",
          "model_name": "ProgressStyleModel",
          "state": {
            "_view_name": "StyleView",
            "_model_name": "ProgressStyleModel",
            "description_width": "initial",
            "_view_module": "@jupyter-widgets/base",
            "_model_module_version": "1.5.0",
            "_view_count": null,
            "_view_module_version": "1.2.0",
            "bar_color": null,
            "_model_module": "@jupyter-widgets/controls"
          }
        },
        "3544bbc8d70b475a8cbf8cb4ff9dd375": {
          "model_module": "@jupyter-widgets/base",
          "model_name": "LayoutModel",
          "state": {
            "_view_name": "LayoutView",
            "grid_template_rows": null,
            "right": null,
            "justify_content": null,
            "_view_module": "@jupyter-widgets/base",
            "overflow": null,
            "_model_module_version": "1.2.0",
            "_view_count": null,
            "flex_flow": null,
            "width": null,
            "min_width": null,
            "border": null,
            "align_items": null,
            "bottom": null,
            "_model_module": "@jupyter-widgets/base",
            "top": null,
            "grid_column": null,
            "overflow_y": null,
            "overflow_x": null,
            "grid_auto_flow": null,
            "grid_area": null,
            "grid_template_columns": null,
            "flex": null,
            "_model_name": "LayoutModel",
            "justify_items": null,
            "grid_row": null,
            "max_height": null,
            "align_content": null,
            "visibility": null,
            "align_self": null,
            "height": null,
            "min_height": null,
            "padding": null,
            "grid_auto_rows": null,
            "grid_gap": null,
            "max_width": null,
            "order": null,
            "_view_module_version": "1.2.0",
            "grid_template_areas": null,
            "object_position": null,
            "object_fit": null,
            "grid_auto_columns": null,
            "margin": null,
            "display": null,
            "left": null
          }
        },
        "8d4c3f0b91c544fdb4af828ba6282aaf": {
          "model_module": "@jupyter-widgets/controls",
          "model_name": "DescriptionStyleModel",
          "state": {
            "_view_name": "StyleView",
            "_model_name": "DescriptionStyleModel",
            "description_width": "",
            "_view_module": "@jupyter-widgets/base",
            "_model_module_version": "1.5.0",
            "_view_count": null,
            "_view_module_version": "1.2.0",
            "_model_module": "@jupyter-widgets/controls"
          }
        },
        "7e9d8207371949668dc84369e28f817e": {
          "model_module": "@jupyter-widgets/base",
          "model_name": "LayoutModel",
          "state": {
            "_view_name": "LayoutView",
            "grid_template_rows": null,
            "right": null,
            "justify_content": null,
            "_view_module": "@jupyter-widgets/base",
            "overflow": null,
            "_model_module_version": "1.2.0",
            "_view_count": null,
            "flex_flow": null,
            "width": null,
            "min_width": null,
            "border": null,
            "align_items": null,
            "bottom": null,
            "_model_module": "@jupyter-widgets/base",
            "top": null,
            "grid_column": null,
            "overflow_y": null,
            "overflow_x": null,
            "grid_auto_flow": null,
            "grid_area": null,
            "grid_template_columns": null,
            "flex": null,
            "_model_name": "LayoutModel",
            "justify_items": null,
            "grid_row": null,
            "max_height": null,
            "align_content": null,
            "visibility": null,
            "align_self": null,
            "height": null,
            "min_height": null,
            "padding": null,
            "grid_auto_rows": null,
            "grid_gap": null,
            "max_width": null,
            "order": null,
            "_view_module_version": "1.2.0",
            "grid_template_areas": null,
            "object_position": null,
            "object_fit": null,
            "grid_auto_columns": null,
            "margin": null,
            "display": null,
            "left": null
          }
        }
      }
    }
  },
  "cells": [
    {
      "cell_type": "code",
      "metadata": {
        "colab": {
          "base_uri": "https://localhost:8080/"
        },
        "id": "Wes9Uw047Uyi",
        "outputId": "e4642824-204d-499f-e86e-6b678a5b1aa7"
      },
      "source": [
        "!pip install flwr"
      ],
      "execution_count": null,
      "outputs": [
        {
          "output_type": "stream",
          "text": [
            "Requirement already satisfied: flwr in /usr/local/lib/python3.7/dist-packages (0.16.0)\n",
            "Requirement already satisfied: grpcio<2.0.0,>=1.27.2 in /usr/local/lib/python3.7/dist-packages (from flwr) (1.34.1)\n",
            "Requirement already satisfied: protobuf<4.0.0,>=3.12.1 in /usr/local/lib/python3.7/dist-packages (from flwr) (3.12.4)\n",
            "Requirement already satisfied: numpy<2.0.0,>=1.19.0 in /usr/local/lib/python3.7/dist-packages (from flwr) (1.19.5)\n",
            "Requirement already satisfied: google<3.0.0,>=2.0.3 in /usr/local/lib/python3.7/dist-packages (from flwr) (2.0.3)\n",
            "Requirement already satisfied: six>=1.5.2 in /usr/local/lib/python3.7/dist-packages (from grpcio<2.0.0,>=1.27.2->flwr) (1.15.0)\n",
            "Requirement already satisfied: setuptools in /usr/local/lib/python3.7/dist-packages (from protobuf<4.0.0,>=3.12.1->flwr) (56.1.0)\n",
            "Requirement already satisfied: beautifulsoup4 in /usr/local/lib/python3.7/dist-packages (from google<3.0.0,>=2.0.3->flwr) (4.6.3)\n"
          ],
          "name": "stdout"
        }
      ]
    },
    {
      "cell_type": "code",
      "metadata": {
        "id": "H8lNQX_B_Qr0"
      },
      "source": [
        "import os\n",
        "import sys\n",
        "import timeit\n",
        "from collections import OrderedDict\n",
        "from typing import Dict, List, Tuple\n",
        "import numpy as np\n",
        "import matplotlib.pyplot as plt\n",
        "\n",
        "from random import random, randint, sample, choice\n",
        "\n",
        "\n",
        "import torch\n",
        "import torch.nn.functional as F\n",
        "from torch import Tensor\n",
        "from torch.utils.data import DataLoader\n",
        "\n",
        "import torchvision\n",
        "import torchvision.transforms as transforms\n",
        "from torchvision.datasets import CIFAR10\n",
        "\n",
        "\n",
        "import flwr as fl\n"
      ],
      "execution_count": null,
      "outputs": []
    },
    {
      "cell_type": "code",
      "metadata": {
        "id": "5vUSyz8G_T1a"
      },
      "source": [
        "DEVICE = torch.device(\"cuda:0\" if torch.cuda.is_available() else \"cpu\")\n"
      ],
      "execution_count": null,
      "outputs": []
    },
    {
      "cell_type": "markdown",
      "metadata": {
        "id": "_BHzRkbOHbBy"
      },
      "source": [
        "### Data Creation"
      ]
    },
    {
      "cell_type": "code",
      "metadata": {
        "colab": {
          "base_uri": "https://localhost:8080/",
          "height": 151,
          "referenced_widgets": [
            "ab09d8331075473d885d8f88a1bdc665",
            "fbc53b22bda640cbb6aafc2ec695dad3",
            "a7b6628b70004759b9be073907ece375",
            "27640ef03d4b4e62af4d973f34e07f2c",
            "cb08a760af394dd8b22ee63c62647a31",
            "3544bbc8d70b475a8cbf8cb4ff9dd375",
            "8d4c3f0b91c544fdb4af828ba6282aaf",
            "7e9d8207371949668dc84369e28f817e"
          ]
        },
        "id": "F9PPd9l7_b7P",
        "outputId": "f0276092-ed5e-4d6a-8873-a6065ef4012d"
      },
      "source": [
        "PARTY_TYPE = \"Minor\"\n",
        "THRESHOLD = 0.7\n",
        "\n",
        "if random()  > THRESHOLD:\n",
        "    PARTY_TYPE = \"MAJOR\"\n",
        "\n",
        "if PARTY_TYPE == \"MAJOR\":\n",
        "    obs  = randint(10000,15000)\n",
        "else:\n",
        "    obs  = randint(2000,3000)\n",
        "    \n",
        "\n",
        "print (\"Welcome, You are a {ptype} Client. \\nYou have {n_obs} records in your dataset.\".format(ptype = PARTY_TYPE, n_obs=obs))\n",
        "\n",
        "transform = transforms.Compose([transforms.ToTensor(), transforms.Normalize((0.5, 0.5, 0.5), (0.5, 0.5, 0.5))])\n",
        "trainset = sample(list(CIFAR10(\".\", train=True, download=True, transform=transform)),obs)\n",
        "testset = CIFAR10(\".\", train=False, download=True, transform=transform)\n",
        "\n",
        "\n",
        "trainloader = DataLoader(trainset, batch_size=8, shuffle=True)\n",
        "testloader = DataLoader(testset, batch_size=8)"
      ],
      "execution_count": null,
      "outputs": [
        {
          "output_type": "stream",
          "text": [
            "Welcome, You are a Minor Client. \n",
            "You have 2286 records in your dataset.\n",
            "Downloading https://www.cs.toronto.edu/~kriz/cifar-10-python.tar.gz to ./cifar-10-python.tar.gz\n"
          ],
          "name": "stdout"
        },
        {
          "output_type": "display_data",
          "data": {
            "application/vnd.jupyter.widget-view+json": {
              "model_id": "ab09d8331075473d885d8f88a1bdc665",
              "version_minor": 0,
              "version_major": 2
            },
            "text/plain": [
              "HBox(children=(FloatProgress(value=0.0, max=170498071.0), HTML(value='')))"
            ]
          },
          "metadata": {
            "tags": []
          }
        },
        {
          "output_type": "stream",
          "text": [
            "\n",
            "Extracting ./cifar-10-python.tar.gz to .\n",
            "Files already downloaded and verified\n"
          ],
          "name": "stdout"
        }
      ]
    },
    {
      "cell_type": "code",
      "metadata": {
        "id": "vMmE84Ew_e2I"
      },
      "source": [
        "classes = ('plane', 'car', 'bird', 'cat',\n",
        "           'deer', 'dog', 'frog', 'horse', 'ship', 'truck')"
      ],
      "execution_count": null,
      "outputs": []
    },
    {
      "cell_type": "code",
      "metadata": {
        "colab": {
          "base_uri": "https://localhost:8080/",
          "height": 112
        },
        "id": "SOm5GeH1_gpp",
        "outputId": "8045c70b-1a19-45fc-a7d0-f7820526be29"
      },
      "source": [
        "def imshow(img):\n",
        "    img = img / 2 + 0.5     # unnormalize\n",
        "    npimg = img.numpy()\n",
        "    plt.imshow(np.transpose(npimg, (1, 2, 0)))\n",
        "    plt.show()\n",
        "\n",
        "\n",
        "dataiter = iter(trainloader)\n",
        "images, labels = dataiter.next()\n",
        "\n",
        "### show images\n",
        "imshow(torchvision.utils.make_grid(images))\n",
        "### print labels\n",
        "print(' '.join('%5s' % classes[labels[j]] for j in range(8)))"
      ],
      "execution_count": null,
      "outputs": [
        {
          "output_type": "display_data",
          "data": {
            "image/png": "[encoded data removed]",
            "text/plain": [
              "<Figure size 432x288 with 1 Axes>"
            ]
          },
          "metadata": {
            "tags": [],
            "needs_background": "light"
          }
        },
        {
          "output_type": "stream",
          "text": [
            "truck horse   cat  frog   dog  ship horse   car\n"
          ],
          "name": "stdout"
        }
      ]
    },
    {
      "cell_type": "code",
      "metadata": {
        "colab": {
          "base_uri": "https://localhost:8080/"
        },
        "id": "C6d59sU7_kHV",
        "outputId": "af3df8c2-ca30-4576-e4c6-3799a1c5a312"
      },
      "source": [
        "### Class Distribution FOR TRAIN\n",
        "count = {item : 0 for item in classes}\n",
        "for data in iter(trainset):\n",
        "    count[classes[data[1]]] += 1\n",
        "\n",
        "print(count)"
      ],
      "execution_count": null,
      "outputs": [
        {
          "output_type": "stream",
          "text": [
            "{'plane': 204, 'car': 277, 'bird': 223, 'cat': 221, 'deer': 196, 'dog': 220, 'frog': 259, 'horse': 243, 'ship': 231, 'truck': 212}\n"
          ],
          "name": "stdout"
        }
      ]
    },
    {
      "cell_type": "code",
      "metadata": {
        "id": "O09y7QJ7_m7K"
      },
      "source": [
        "class Net(torch.nn.Module):\n",
        "\n",
        "    def __init__(self) -> None:\n",
        "        super(Net, self).__init__()\n",
        "        self.conv1 = torch.nn.Conv2d(3, 6, 5)\n",
        "        self.pool = torch.nn.MaxPool2d(2, 2)\n",
        "        self.conv2 = torch.nn.Conv2d(6, 16, 5)\n",
        "        self.fc1 = torch.nn.Linear(16 * 5 * 5, 120)\n",
        "        self.fc2 = torch.nn.Linear(120, 84)\n",
        "        self.fc3 = torch.nn.Linear(84, 10)\n",
        "\n",
        "    ### pylint: disable=arguments-differ,invalid-name\n",
        "    def forward(self, x: Tensor) -> Tensor:\n",
        "        \"\"\"Compute forward pass.\"\"\"\n",
        "        x = self.pool(F.relu(self.conv1(x)))\n",
        "        x = self.pool(F.relu(self.conv2(x)))\n",
        "        x = x.view(-1, 16 * 5 * 5)\n",
        "        x = F.relu(self.fc1(x))\n",
        "        x = F.relu(self.fc2(x))\n",
        "        x = self.fc3(x)\n",
        "        return x"
      ],
      "execution_count": null,
      "outputs": []
    },
    {
      "cell_type": "code",
      "metadata": {
        "id": "_RygbmHn_pG1"
      },
      "source": [
        "def train(\n",
        "    net: None,\n",
        "    trainloader: torch.utils.data.DataLoader,\n",
        "    epochs: int,\n",
        "    device: torch.device,\n",
        ") -> None:\n",
        "    \n",
        "    \"\"\"Train the network.\"\"\"\n",
        "    ### Define loss and optimizer\n",
        "    \n",
        "    criterion = torch.nn.CrossEntropyLoss()\n",
        "    optimizer = torch.optim.SGD(net.parameters(), lr=0.001, momentum=0.9)\n",
        "\n",
        "    print(f\"Training {epochs} epoch(s) w/ {len(trainloader)} batches each\")\n",
        "\n",
        "    ### Train the network\n",
        "    for epoch in range(epochs):  # loop over the dataset multiple times\n",
        "        \n",
        "        running_loss = 0.0\n",
        "        \n",
        "        for i, data in enumerate(trainloader, 0):\n",
        "            images, labels = data[0].to(device), data[1].to(device)\n",
        "\n",
        "            ### zero the parameter gradients\n",
        "            optimizer.zero_grad()\n",
        "\n",
        "            ### forward + backward + optimize\n",
        "            outputs = net(images)\n",
        "            loss = criterion(outputs, labels)\n",
        "            loss.backward()\n",
        "            optimizer.step()\n",
        "\n",
        "            ### print statistics\n",
        "            running_loss += loss.item()\n",
        "            if i % 100 == 99:  # print every 100 mini-batches\n",
        "                print(\"[%d, %5d] loss: %.3f\" % (epoch + 1, i + 1, running_loss / 2000))\n",
        "                running_loss = 0.0"
      ],
      "execution_count": null,
      "outputs": []
    },
    {
      "cell_type": "code",
      "metadata": {
        "id": "KTSWpnArG8oD"
      },
      "source": [
        "def test(\n",
        "    net: None,\n",
        "    testloader: torch.utils.data.DataLoader,\n",
        "    device: torch.device,\n",
        ") -> Tuple[float, float]:\n",
        "    \n",
        "    \"\"\"Validate the network on the entire test set.\"\"\"\n",
        "    \n",
        "    criterion = torch.nn.CrossEntropyLoss()\n",
        "    correct = 0\n",
        "    total = 0\n",
        "    loss = 0.0\n",
        "    \n",
        "    with torch.no_grad():\n",
        "        \n",
        "        for data in testloader:\n",
        "            \n",
        "            images, labels = data[0].to(device), data[1].to(device)\n",
        "            \n",
        "            outputs = net(images)\n",
        "            \n",
        "            loss += criterion(outputs, labels).item()\n",
        "            \n",
        "            _, predicted = torch.max(outputs.data, 1)\n",
        "            \n",
        "            total += labels.size(0)\n",
        "            \n",
        "            correct += (predicted == labels).sum().item()\n",
        "    \n",
        "    accuracy = correct / total\n",
        "    \n",
        "    return loss, accuracy"
      ],
      "execution_count": null,
      "outputs": []
    },
    {
      "cell_type": "markdown",
      "metadata": {
        "id": "0hOjyLfoG_wq"
      },
      "source": [
        "#### Centralized Modeling on your own data\n"
      ]
    },
    {
      "cell_type": "code",
      "metadata": {
        "id": "J4Pic1c4HBIL"
      },
      "source": [
        "DEVICE = torch.device(\"cuda:0\" if torch.cuda.is_available() else \"cpu\")\n",
        "print(\"Centralized PyTorch training\")\n",
        "\n",
        "c_model = Net()\n",
        "\n",
        "print(\"Start training\")\n",
        "train(net=c_model, trainloader=trainloader, epochs=2, device=DEVICE)\n",
        "\n",
        "print(\"Evaluate model\")\n",
        "loss, accuracy = test(net=c_model, testloader=testloader, device=DEVICE)\n",
        "\n",
        "\n",
        "print(\"Loss: \", loss)\n",
        "print(\"Accuracy: \", accuracy)"
      ],
      "execution_count": null,
      "outputs": []
    },
    {
      "cell_type": "markdown",
      "metadata": {
        "id": "SkHc2iX6HFsx"
      },
      "source": [
        "### Federated Learning"
      ]
    },
    {
      "cell_type": "code",
      "metadata": {
        "id": "2EbcFAb9HFC8"
      },
      "source": [
        "# Flower Client\n",
        "class CifarClient(fl.client.NumPyClient):\n",
        "    \"\"\"Flower client implementing CIFAR-10 image classification using\n",
        "    PyTorch.\"\"\"\n",
        "\n",
        "    def __init__(\n",
        "        self,\n",
        "        model: None,\n",
        "        trainloader: torch.utils.data.DataLoader,\n",
        "        testloader: torch.utils.data.DataLoader,\n",
        "    ) -> None:\n",
        "        \n",
        "        self.model = model\n",
        "        self.trainloader = trainloader\n",
        "        self.testloader = testloader\n",
        "\n",
        "    def get_parameters(self) -> List[np.ndarray]:\n",
        "        ### Return model parameters to server as a list of NumPy ndarrays\n",
        "\n",
        "        return [val.cpu().numpy() for _, val in self.model.state_dict().items()]\n",
        "    \n",
        "\n",
        "    \n",
        "    def set_parameters(self, parameters: List[np.ndarray]) -> None:\n",
        "        ### Set model parameters in client from a list of NumPy ndarrays\n",
        "        \n",
        "        params_dict = zip(self.model.state_dict().keys(), parameters)\n",
        "        state_dict = OrderedDict({k: torch.Tensor(v) for k, v in params_dict})\n",
        "        \n",
        "        self.model.load_state_dict(state_dict, strict=True)\n",
        "        \n",
        "\n",
        "    \n",
        "    def fit(\n",
        "        self, parameters: List[np.ndarray], config: Dict[str, str]\n",
        "    ) -> Tuple[List[np.ndarray], int]:\n",
        "        ### Set model parameters, train model in client and return updated model parameters to server\n",
        "        \n",
        "        self.set_parameters(parameters)\n",
        "        \n",
        "        train(self.model, self.trainloader, epochs=1, device=DEVICE)\n",
        "        \n",
        "        return self.get_parameters(), len(self.trainloader), {}\n",
        "    \n",
        "\n",
        "    \n",
        "    \n",
        "    def evaluate(\n",
        "        self, parameters: List[np.ndarray], config: Dict[str, str]\n",
        "    ) -> Tuple[int, float, float]:\n",
        "        ### Set model parameters, evaluate model on local test dataset in client and return result to server\n",
        "        \n",
        "        self.set_parameters(parameters)\n",
        "        \n",
        "        loss, accuracy = test(self.model, self.testloader, device=DEVICE)\n",
        "        \n",
        "        return float(loss), len(self.testloader), {\"accuracy\": float(accuracy)}"
      ],
      "execution_count": null,
      "outputs": []
    },
    {
      "cell_type": "markdown",
      "metadata": {
        "id": "UY5F1tsrHMwE"
      },
      "source": [
        "#### Scotty, Beam Me Up"
      ]
    },
    {
      "cell_type": "code",
      "metadata": {
        "id": "77q8FdGnHNn0"
      },
      "source": [
        "SERVER_IP = \"100.110.225.209\"\n",
        "SERVER_PORT = \"8080\"\n",
        "SERVER_ADDRESS = \"{ip}:{port}\".format(ip=SERVER_IP, port=SERVER_PORT)"
      ],
      "execution_count": null,
      "outputs": []
    },
    {
      "cell_type": "code",
      "metadata": {
        "id": "eXsGw87pHQAs"
      },
      "source": [
        "print(\"Connected to server at {serverAddress}\".format(serverAddress=SERVER_ADDRESS))\n",
        "\n",
        "# Load model and data\n",
        "f_model = Net().to(DEVICE)\n",
        "\n",
        "client = CifarClient(f_model, trainloader, testloader)\n",
        "\n",
        "fl.client.start_numpy_client(SERVER_ADDRESS, client)"
      ],
      "execution_count": null,
      "outputs": []
    },
    {
      "cell_type": "code",
      "metadata": {
        "id": "FOXZcTJFHUL9"
      },
      "source": [
        "loss, accuracy = test(net=f_model, testloader=testloader, device=DEVICE)\n",
        "print(\"Loss: \", loss)\n",
        "print(\"Accuracy: \", accuracy)"
      ],
      "execution_count": null,
      "outputs": []
    }
  ]
}