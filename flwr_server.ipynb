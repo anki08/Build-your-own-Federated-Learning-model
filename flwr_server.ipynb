{
  "nbformat": 4,
  "nbformat_minor": 0,
  "metadata": {
    "colab": {
      "name": "flwr_server.ipynb",
      "provenance": [],
      "collapsed_sections": []
    },
    "kernelspec": {
      "name": "python3",
      "display_name": "Python 3"
    },
    "language_info": {
      "name": "python"
    }
  },
  "cells": [
    {
      "cell_type": "code",
      "metadata": {
        "id": "zMkBuAZQ7YV-"
      },
      "source": [
        "!pip install flwr"
      ],
      "execution_count": null,
      "outputs": []
    },
    {
      "cell_type": "code",
      "metadata": {
        "id": "nD0b-v_Q7ijS"
      },
      "source": [
        "import flwr as fl"
      ],
      "execution_count": null,
      "outputs": []
    },
    {
      "cell_type": "code",
      "metadata": {
        "id": "fpSe9vjl7kfz"
      },
      "source": [
        "# Start Flower server for three rounds of federated learning\n",
        "if __name__ == \"__main__\":\n",
        "    strategy = fl.server.strategy.FedAvg(\n",
        "        fraction_fit=0.1,\n",
        "        min_available_clients=3\n",
        ")\n",
        "fl.server.start_server(\"[::]:8080\", config={\"num_rounds\": 3}, , strategy=strategy)"
      ],
      "execution_count": null,
      "outputs": []
    }
  ]
}